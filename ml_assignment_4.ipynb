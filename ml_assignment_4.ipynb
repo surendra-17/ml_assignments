{
 "cells": [
  {
   "cell_type": "markdown",
   "metadata": {},
   "source": [
    "# 1.1"
   ]
  },
  {
   "cell_type": "markdown",
   "metadata": {},
   "source": [
    "Write a Python Program(with class concepts) to find the area of the triangle using the below formula. \n",
    " \n",
    "area = (s*(s-a)*(s-b)*(s-c)) ** 0.5 \n",
    " \n",
    "Function to take the length of the sides of triangle from user should be defined in the parent class and function to calculate the area should be defined in subclass. "
   ]
  },
  {
   "cell_type": "code",
   "execution_count": 46,
   "metadata": {},
   "outputs": [],
   "source": [
    "class Triangle:\n",
    "    \n",
    "    def lengths(self,a,b,c):\n",
    "            self.a = float(a)\n",
    "            self.b = float(b)\n",
    "            self.c = float(c)    \n",
    "    \n",
    "class AreaOfTriangle(Triangle):\n",
    "    \n",
    "    def __init__(self,a,b,c):\n",
    "        self.lengths(a,b,c)\n",
    "        \n",
    "    def semiPerimeter(self):\n",
    "        return round((self.a+self.b+self.c)/2,2)\n",
    "        \n",
    "    def area(self):\n",
    "        s = self.semiPerimeter()\n",
    "        return round((s*(s-self.a)*(s-self.b)*(s-self.c))*0.5,2)"
   ]
  },
  {
   "cell_type": "code",
   "execution_count": 48,
   "metadata": {},
   "outputs": [
    {
     "name": "stdout",
     "output_type": "stream",
     "text": [
      "Enter length of side1 of triangle 4\n",
      "Enter length of side2 of triangle 5\n",
      "Enter length of side3 of triangle 6\n",
      "Area of triangle having side length 4, 5, 6 is 49.22\n"
     ]
    }
   ],
   "source": [
    "side1 = input('Enter length of side1 of triangle ')\n",
    "side2 = input('Enter length of side2 of triangle ')\n",
    "side3 = input('Enter length of side3 of triangle ')\n",
    "\n",
    "at = AreaOfTriangle(side1,side2,side3);\n",
    "\n",
    "print(f'Area of triangle having side length {side1}, {side2}, {side3} is {at.area()}');"
   ]
  },
  {
   "cell_type": "markdown",
   "metadata": {},
   "source": [
    "# 1.2"
   ]
  },
  {
   "cell_type": "markdown",
   "metadata": {},
   "source": [
    "Write a function filter_long_words() that takes a list of words and an integer n and returns the list of words that are longer than n. "
   ]
  },
  {
   "cell_type": "code",
   "execution_count": 19,
   "metadata": {},
   "outputs": [],
   "source": [
    "def filter_long_words(lst_words,n):\n",
    "    return list(filter(lambda word: len(word) > n,lst_words))"
   ]
  },
  {
   "cell_type": "code",
   "execution_count": 20,
   "metadata": {},
   "outputs": [
    {
     "name": "stdout",
     "output_type": "stream",
     "text": [
      "['filter', 'function', 'longer', 'checkpoint', 'assignment']\n"
     ]
    }
   ],
   "source": [
    "lst_words = ['filter','long','word','take','list','function','longer','checkpoint','assignment','above']\n",
    "print(filter_long_words(lst_words,5))"
   ]
  },
  {
   "cell_type": "markdown",
   "metadata": {},
   "source": [
    "# 2.1"
   ]
  },
  {
   "cell_type": "raw",
   "metadata": {},
   "source": [
    "Write a Python program using function concept that maps list of words into a list of integers representing the lengths of the corresponding words. \n",
    " \n",
    "Hint: If a list [ ab,cde,erty] is passed on to the python function output should come as [2,3,4] \n",
    " \n",
    "Here 2,3 and 4 are the lengths of the words in the list. "
   ]
  },
  {
   "cell_type": "code",
   "execution_count": 24,
   "metadata": {},
   "outputs": [],
   "source": [
    "def word_length(word_lst):\n",
    "    return list(map(lambda word:len(word),word_lst))"
   ]
  },
  {
   "cell_type": "code",
   "execution_count": 25,
   "metadata": {},
   "outputs": [
    {
     "name": "stdout",
     "output_type": "stream",
     "text": [
      "[2, 3, 4]\n"
     ]
    }
   ],
   "source": [
    "word_lst =  ['ab','cde','erty']\n",
    "print(word_length(word_lst))"
   ]
  },
  {
   "cell_type": "markdown",
   "metadata": {},
   "source": [
    "# 2.2"
   ]
  },
  {
   "cell_type": "raw",
   "metadata": {},
   "source": [
    "Write a Python function which takes a character (i.e. a string of length 1) and returns True if it is a vowel, False otherwise. "
   ]
  },
  {
   "cell_type": "code",
   "execution_count": 1,
   "metadata": {},
   "outputs": [],
   "source": [
    "def isVowel(char):\n",
    "    if(len(char) == 1):\n",
    "        return  char.lower() in ['a','e','i','o','u']\n",
    "    else:\n",
    "        print('Please enter single character')\n",
    "        "
   ]
  },
  {
   "cell_type": "code",
   "execution_count": 4,
   "metadata": {},
   "outputs": [
    {
     "name": "stdout",
     "output_type": "stream",
     "text": [
      "False\n"
     ]
    }
   ],
   "source": [
    "print(isVowel('d'))"
   ]
  }
 ],
 "metadata": {
  "kernelspec": {
   "display_name": "Python 3",
   "language": "python",
   "name": "python3"
  },
  "language_info": {
   "codemirror_mode": {
    "name": "ipython",
    "version": 3
   },
   "file_extension": ".py",
   "mimetype": "text/x-python",
   "name": "python",
   "nbconvert_exporter": "python",
   "pygments_lexer": "ipython3",
   "version": "3.7.6"
  }
 },
 "nbformat": 4,
 "nbformat_minor": 4
}
